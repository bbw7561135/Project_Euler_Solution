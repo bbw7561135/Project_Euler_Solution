{
 "cells": [
  {
   "cell_type": "code",
   "execution_count": 1,
   "metadata": {},
   "outputs": [],
   "source": [
    "import numpy as np\n",
    "import matplotlib.pyplot as plt\n",
    "%matplotlib inline"
   ]
  },
  {
   "cell_type": "code",
   "execution_count": 2,
   "metadata": {},
   "outputs": [
    {
     "name": "stdout",
     "output_type": "stream",
     "text": [
      "233168\n"
     ]
    }
   ],
   "source": [
    "#001\n",
    "#如果我们列出10以内所有3或5的倍数，我们将得到3、5、6和9，这些数的和是23。\n",
    "#求1000以内所有3或5的倍数的和\n",
    "\n",
    "sum1=0\n",
    "arr=range(1000)\n",
    "for i in arr:\n",
    "    if(i%3==0 or i%5==0):\n",
    "        sum1+=i\n",
    "\n",
    "print(sum1)"
   ]
  },
  {
   "cell_type": "code",
   "execution_count": 3,
   "metadata": {},
   "outputs": [
    {
     "name": "stdout",
     "output_type": "stream",
     "text": [
      "4613732\n"
     ]
    }
   ],
   "source": [
    "#002\n",
    "#斐波那契数列中的每一项都是前两项的和。由1和2开始生成的斐波那契数列前10项为：\n",
    "#1, 2, 3, 5, 8, 13, 21, 34, 55, 89, …\n",
    "#考虑该斐波那契数列中不超过四百万的项，求其中为偶数的项之和\n",
    "\n",
    "sum1=0\n",
    "a=1\n",
    "b=2\n",
    "while(b<=4000000):\n",
    "    if(b%2==0):\n",
    "        sum1+=b\n",
    "    temp=b\n",
    "    b=a+b\n",
    "    a=temp\n",
    "print(sum1)"
   ]
  },
  {
   "cell_type": "code",
   "execution_count": 4,
   "metadata": {},
   "outputs": [
    {
     "name": "stdout",
     "output_type": "stream",
     "text": [
      "[71, 839, 1471, 6857]\n",
      "6857\n",
      "6857\n"
     ]
    }
   ],
   "source": [
    "#003\n",
    "#最大质因数\n",
    "#13195的所有质因数为5、7、13和29。\n",
    "#600851475143最大的质因数是多少\n",
    "\n",
    "num=600851475143\n",
    "fac = [] # 定义一个列表存放因子\n",
    "tmp=2\n",
    "if num==tmp:\n",
    "    print(num)\n",
    "else:\n",
    "    while (num>=tmp):\n",
    "        k=num%tmp\n",
    "        if(k == 0):\n",
    "            fac.append(tmp)\n",
    "            num=num/tmp #更新\n",
    "        else:\n",
    "            tmp=tmp+1 #同时更新除数值，不必每次都从头开始\n",
    "\n",
    "print(fac)\n",
    "print(fac[-1])\n",
    "print(max(fac))"
   ]
  },
  {
   "cell_type": "code",
   "execution_count": 5,
   "metadata": {},
   "outputs": [
    {
     "data": {
      "text/plain": [
       "9.5021"
      ]
     },
     "execution_count": 5,
     "metadata": {},
     "output_type": "execute_result"
    }
   ],
   "source": [
    "95021/10000"
   ]
  },
  {
   "cell_type": "code",
   "execution_count": 6,
   "metadata": {},
   "outputs": [
    {
     "data": {
      "text/plain": [
       "9"
      ]
     },
     "execution_count": 6,
     "metadata": {},
     "output_type": "execute_result"
    }
   ],
   "source": [
    "95021//10000"
   ]
  },
  {
   "cell_type": "code",
   "execution_count": 7,
   "metadata": {},
   "outputs": [
    {
     "name": "stdout",
     "output_type": "stream",
     "text": [
      "906609\n"
     ]
    }
   ],
   "source": [
    "#004\n",
    "#回文数就是从前往后和从后往前读都一样的数。由两个2位数相乘得到的最大回文乘积是 9009 = 91 × 99。\n",
    "#找出由两个3位数相乘得到的最大回文乘积\n",
    "\n",
    "huiwen=[]\n",
    "for i in range(100,1000):\n",
    "    for j in range(i,1000):\n",
    "        sum=i*j\n",
    "        if(sum<100000 and (sum%10==sum//10000) and ((sum//10)%10)==(sum//1000)%10):\n",
    "            #print(i,j,sum)\n",
    "            pass\n",
    "        if(sum>=100000 and sum<=998001):#998001=999X999\n",
    "            if((sum%10==sum//100000) and ((sum//10)%10)==(sum//10000)%10 and ((sum//100)%10)==(sum//1000)%10):\n",
    "                #print(i,j,sum)\n",
    "                huiwen.append(sum)\n",
    "\n",
    "#print(huiwen)\n",
    "print(max(huiwen))\n",
    "            "
   ]
  },
  {
   "cell_type": "code",
   "execution_count": 10,
   "metadata": {},
   "outputs": [
    {
     "name": "stdout",
     "output_type": "stream",
     "text": [
      "232792560\n"
     ]
    }
   ],
   "source": [
    "#005\n",
    "#2520是最小的能够被1到10整除的数。\n",
    "#最小的能够被1到20整除的正数是多少\n",
    "\n",
    "tar=2520\n",
    "while (True):\n",
    "    tar=tar+1\n",
    "    count=0\n",
    "    newlist=[2,3,4,5,7,9,11,13,16,17,19]\n",
    "    for i in newlist:#range(1,21)\n",
    "        if(tar%i==0): #1-20太慢了 要算2-3分钟 可以简化\n",
    "            count+=1\n",
    "        else:\n",
    "            break\n",
    "    if(count==11):\n",
    "        break\n",
    "    else:\n",
    "        continue\n",
    "\n",
    "print(tar)"
   ]
  },
  {
   "cell_type": "code",
   "execution_count": 11,
   "metadata": {},
   "outputs": [
    {
     "name": "stdout",
     "output_type": "stream",
     "text": [
      "25164150\n"
     ]
    }
   ],
   "source": [
    "#006\n",
    "#前十个自然数的平方的和是\n",
    "#1-2 + 2-2 + … + 10-2 = 385\n",
    "#前十个自然数的和的平方是\n",
    "#(1 + 2 + … + 10)-2 = 55-2 = 3025\n",
    "#因此前十个自然数的平方的和与和的平方之差是 3025 − 385 = 2640。\n",
    "#求前一百个自然数的平方的和与和的平方之差\n",
    "\n",
    "sum_1=0\n",
    "sum_2=0\n",
    "for i in range(1,101):\n",
    "    sum_1+=i*i\n",
    "    sum_2+=i\n",
    "\n",
    "print(sum_2*sum_2-sum_1)"
   ]
  },
  {
   "cell_type": "code",
   "execution_count": 30,
   "metadata": {
    "scrolled": true
   },
   "outputs": [
    {
     "name": "stdout",
     "output_type": "stream",
     "text": [
      "104743\n"
     ]
    }
   ],
   "source": [
    "#007\n",
    "#列出前6个素数，它们分别是2、3、5、7、11和13。我们可以看出，第6个素数是13。\n",
    "#第10,001个素数是多少？\n",
    "\n",
    "num=[2];#列表很耗费时间\n",
    "i=2\n",
    "count=1\n",
    "while(True):\n",
    "    i=i+1\n",
    "    #print(i)\n",
    "    for j in range(2,i//2+2):\n",
    "        if(i%j==0):\n",
    "            break\n",
    "        else:\n",
    "            if(j==i//2+1):\n",
    "                num.append(i)\n",
    "                count=count+1\n",
    "            pass\n",
    "    if(count==10001):\n",
    "        break\n",
    "    else:\n",
    "        continue\n",
    "\n",
    "print(num[-1])"
   ]
  },
  {
   "cell_type": "code",
   "execution_count": 34,
   "metadata": {},
   "outputs": [
    {
     "name": "stdout",
     "output_type": "stream",
     "text": [
      "104743\n"
     ]
    }
   ],
   "source": [
    "num=2\n",
    "count=1\n",
    "while(True):\n",
    "    num=num+1\n",
    "    #print(i)\n",
    "    for j in range(2,num//2+2):\n",
    "        if(num%j==0):\n",
    "            break\n",
    "        else:\n",
    "            if(j==num//2+1):\n",
    "                count=count+1\n",
    "            pass\n",
    "    if(count==10001):\n",
    "        break\n",
    "    else:\n",
    "        continue\n",
    "\n",
    "print(num)"
   ]
  },
  {
   "cell_type": "code",
   "execution_count": 36,
   "metadata": {},
   "outputs": [
    {
     "name": "stdout",
     "output_type": "stream",
     "text": [
      "104743\n"
     ]
    }
   ],
   "source": [
    "import math #别人的算法 就是快\n",
    "def isPrime(n):\n",
    "    for i in range(2,int(math.sqrt(n))+1):\n",
    "        if n%i==0:\n",
    "            return False\n",
    "    return True\n",
    "num = 1\n",
    "count = 0\n",
    "while True:\n",
    "    num += 1\n",
    "    if isPrime(num):\n",
    "        count += 1\n",
    "    if count == 10001:\n",
    "        break\n",
    "print (num)"
   ]
  },
  {
   "cell_type": "code",
   "execution_count": 40,
   "metadata": {},
   "outputs": [
    {
     "name": "stdout",
     "output_type": "stream",
     "text": [
      "23514624000\n"
     ]
    }
   ],
   "source": [
    "#008\n",
    "#在下面这个1000位正整数中，连续4个数字的最大乘积是 9 × 9 × 8 × 9 = 5832。\n",
    "# 73167176531330624919225119674426574742355349194934\n",
    "# 96983520312774506326239578318016984801869478851843\n",
    "# 85861560789112949495459501737958331952853208805511\n",
    "# 12540698747158523863050715693290963295227443043557\n",
    "# 66896648950445244523161731856403098711121722383113\n",
    "# 62229893423380308135336276614282806444486645238749\n",
    "# 30358907296290491560440772390713810515859307960866\n",
    "# 70172427121883998797908792274921901699720888093776\n",
    "# 65727333001053367881220235421809751254540594752243\n",
    "# 52584907711670556013604839586446706324415722155397\n",
    "# 53697817977846174064955149290862569321978468622482\n",
    "# 83972241375657056057490261407972968652414535100474\n",
    "# 82166370484403199890008895243450658541227588666881\n",
    "# 16427171479924442928230863465674813919123162824586\n",
    "# 17866458359124566529476545682848912883142607690042\n",
    "# 24219022671055626321111109370544217506941658960408\n",
    "# 07198403850962455444362981230987879927244284909188\n",
    "# 84580156166097919133875499200524063689912560717606\n",
    "# 05886116467109405077541002256983155200055935729725\n",
    "# 71636269561882670428252483600823257530420752963450\n",
    "#找出这个1000位正整数中乘积最大的连续13个数字。它们的乘积是多少？\n",
    "\n",
    "s = '''73167176531330624919225119674426574742355349194934\\\n",
    "96983520312774506326239578318016984801869478851843\\\n",
    "85861560789112949495459501737958331952853208805511\\\n",
    "12540698747158523863050715693290963295227443043557\\\n",
    "66896648950445244523161731856403098711121722383113\\\n",
    "62229893423380308135336276614282806444486645238749\\\n",
    "30358907296290491560440772390713810515859307960866\\\n",
    "70172427121883998797908792274921901699720888093776\\\n",
    "65727333001053367881220235421809751254540594752243\\\n",
    "52584907711670556013604839586446706324415722155397\\\n",
    "53697817977846174064955149290862569321978468622482\\\n",
    "83972241375657056057490261407972968652414535100474\\\n",
    "82166370484403199890008895243450658541227588666881\\\n",
    "16427171479924442928230863465674813919123162824586\\\n",
    "17866458359124566529476545682848912883142607690042\\\n",
    "24219022671055626321111109370544217506941658960408\\\n",
    "07198403850962455444362981230987879927244284909188\\\n",
    "84580156166097919133875499200524063689912560717606\\\n",
    "05886116467109405077541002256983155200055935729725\\\n",
    "71636269561882670428252483600823257530420752963450'''\n",
    "\n",
    "steps=13\n",
    "max_num=1\n",
    "#print(len(s))\n",
    "for i in range (0,997):\n",
    "    num=1\n",
    "    for j in s[i:i+steps]:\n",
    "        num=num*int(j)\n",
    "    if num > max_num:\n",
    "        max_num=num\n",
    "\n",
    "print(max_num)\n",
    "        "
   ]
  },
  {
   "cell_type": "code",
   "execution_count": 45,
   "metadata": {},
   "outputs": [
    {
     "name": "stdout",
     "output_type": "stream",
     "text": [
      "31875000\n"
     ]
    }
   ],
   "source": [
    "#009\n",
    "#特殊毕达哥拉斯三元组\n",
    "#毕达哥拉斯三元组是三个自然数a < b < c组成的集合，并满足\n",
    "#a2 + b2 = c2\n",
    "#例如，3^2 + 4^2 = 9 + 16 = 25 = 52\n",
    "#有且只有一个毕达哥拉斯三元组满足 a + b + c = 1000 求这个三元组的乘积abc\n",
    "\n",
    "ans=False\n",
    "\n",
    "for a in range(1,1000):\n",
    "    for b in range(1,1000):\n",
    "        for c in range(1,1000):\n",
    "            if(c>a and c>b and a+b+c==1000 and c*c==a*a+b*b):\n",
    "                ans=True\n",
    "                break #跳出当层循环 多重循环要自己设置条件\n",
    "            else:\n",
    "                pass\n",
    "        if(ans):\n",
    "            break\n",
    "    if(ans):\n",
    "        break\n",
    "print(a*b*c)\n",
    "# print(a,a*a)\n",
    "# print(b,b*b)\n",
    "# print(c,c*c)"
   ]
  },
  {
   "cell_type": "code",
   "execution_count": 47,
   "metadata": {},
   "outputs": [
    {
     "name": "stdout",
     "output_type": "stream",
     "text": [
      "31875000\n"
     ]
    }
   ],
   "source": [
    "#比上一个快很多\n",
    "ans=False\n",
    "\n",
    "for a in range(1,1000):\n",
    "    for b in range(1,1000):\n",
    "            c=1000-a-b\n",
    "            if(c>a and c>b and c*c==a*a+b*b):\n",
    "                ans=True\n",
    "                break #跳出当层循环 多重循环要自己设置条件\n",
    "            else:\n",
    "                pass\n",
    "    if(ans):\n",
    "        break\n",
    "\n",
    "print(a*b*c)"
   ]
  },
  {
   "cell_type": "code",
   "execution_count": 5,
   "metadata": {},
   "outputs": [
    {
     "name": "stdout",
     "output_type": "stream",
     "text": [
      "142913828922\n"
     ]
    }
   ],
   "source": [
    "#010\n",
    "#所有小于10的素数的和是2 + 3 + 5 + 7 = 17。\n",
    "#求所有小于两百万的素数的和\n",
    "\n",
    "import math #别人的算法 就是快\n",
    "def isPrime(n):\n",
    "    for i in range(2,int(math.sqrt(n))+1):\n",
    "        if n%i==0:\n",
    "            return False\n",
    "    return True\n",
    "\n",
    "sum=0\n",
    "num=1\n",
    "while True:\n",
    "    num += 1\n",
    "    if isPrime(num):\n",
    "        sum+=num\n",
    "    if num >= 2000000:\n",
    "        break\n",
    "print (sum)"
   ]
  },
  {
   "cell_type": "code",
   "execution_count": 15,
   "metadata": {},
   "outputs": [
    {
     "name": "stdout",
     "output_type": "stream",
     "text": [
      "51267216\n",
      "48477312\n",
      "32565456\n",
      "[51267216, 48477312]\n"
     ]
    }
   ],
   "source": [
    "# 在如下的20×20方阵中，有四个呈对角线排列的数被标红了。\n",
    "# 08 02 22 97 38 15 00 40 00 75 04 05 07 78 52 12 50 77 91 08\n",
    "# 49 49 99 40 17 81 18 57 60 87 17 40 98 43 69 48 04 56 62 00\n",
    "# 81 49 31 73 55 79 14 29 93 71 40 67 53 88 30 03 49 13 36 65\n",
    "# 52 70 95 23 04 60 11 42 69 24 68 56 01 32 56 71 37 02 36 91\n",
    "# 22 31 16 71 51 67 63 89 41 92 36 54 22 40 40 28 66 33 13 80\n",
    "# 24 47 32 60 99 03 45 02 44 75 33 53 78 36 84 20 35 17 12 50\n",
    "# 32 98 81 28 64 23 67 10 26 38 40 67 59 54 70 66 18 38 64 70\n",
    "# 67 26 20 68 02 62 12 20 95 63 94 39 63 08 40 91 66 49 94 21\n",
    "# 24 55 58 05 66 73 99 26 97 17 78 78 96 83 14 88 34 89 63 72\n",
    "# 21 36 23 09 75 00 76 44 20 45 35 14 00 61 33 97 34 31 33 95\n",
    "# 78 17 53 28 22 75 31 67 15 94 03 80 04 62 16 14 09 53 56 92\n",
    "# 16 39 05 42 96 35 31 47 55 58 88 24 00 17 54 24 36 29 85 57\n",
    "# 86 56 00 48 35 71 89 07 05 44 44 37 44 60 21 58 51 54 17 58\n",
    "# 19 80 81 68 05 94 47 69 28 73 92 13 86 52 17 77 04 89 55 40\n",
    "# 04 52 08 83 97 35 99 16 07 97 57 32 16 26 26 79 33 27 98 66\n",
    "# 88 36 68 87 57 62 20 72 03 46 33 67 46 55 12 32 63 93 53 69\n",
    "# 04 42 16 73 38 25 39 11 24 94 72 18 08 46 29 32 40 62 76 36\n",
    "# 20 69 36 41 72 30 23 88 34 62 99 69 82 67 59 85 74 04 36 16\n",
    "# 20 73 35 29 78 31 90 01 74 31 49 71 48 86 81 16 23 57 05 54\n",
    "# 01 70 54 71 83 51 54 69 16 92 33 48 61 43 52 01 89 19 67 48\n",
    "# 这四个数的乘积是26 × 63 × 78 × 14 = 1788696。\n",
    "# 在这个20×20方阵中，四个在同一方向（从下至上、从上至下、从右至左、从左至右或者对角线）上相邻的数的乘积最大是多少？\n",
    "\n",
    "str='''\n",
    "08 02 22 97 38 15 00 40 00 75 04 05 07 78 52 12 50 77 91 08\n",
    "49 49 99 40 17 81 18 57 60 87 17 40 98 43 69 48 04 56 62 00\n",
    "81 49 31 73 55 79 14 29 93 71 40 67 53 88 30 03 49 13 36 65\n",
    "52 70 95 23 04 60 11 42 69 24 68 56 01 32 56 71 37 02 36 91\n",
    "22 31 16 71 51 67 63 89 41 92 36 54 22 40 40 28 66 33 13 80\n",
    "24 47 32 60 99 03 45 02 44 75 33 53 78 36 84 20 35 17 12 50\n",
    "32 98 81 28 64 23 67 10 26 38 40 67 59 54 70 66 18 38 64 70\n",
    "67 26 20 68 02 62 12 20 95 63 94 39 63 08 40 91 66 49 94 21\n",
    "24 55 58 05 66 73 99 26 97 17 78 78 96 83 14 88 34 89 63 72\n",
    "21 36 23 09 75 00 76 44 20 45 35 14 00 61 33 97 34 31 33 95\n",
    "78 17 53 28 22 75 31 67 15 94 03 80 04 62 16 14 09 53 56 92\n",
    "16 39 05 42 96 35 31 47 55 58 88 24 00 17 54 24 36 29 85 57\n",
    "86 56 00 48 35 71 89 07 05 44 44 37 44 60 21 58 51 54 17 58\n",
    "19 80 81 68 05 94 47 69 28 73 92 13 86 52 17 77 04 89 55 40\n",
    "04 52 08 83 97 35 99 16 07 97 57 32 16 26 26 79 33 27 98 66\n",
    "88 36 68 87 57 62 20 72 03 46 33 67 46 55 12 32 63 93 53 69\n",
    "04 42 16 73 38 25 39 11 24 94 72 18 08 46 29 32 40 62 76 36\n",
    "20 69 36 41 72 30 23 88 34 62 99 69 82 67 59 85 74 04 36 16\n",
    "20 73 35 29 78 31 90 01 74 31 49 71 48 86 81 16 23 57 05 54\n",
    "01 70 54 71 83 51 54 69 16 92 33 48 61 43 52 01 89 19 67 48\n",
    "'''\n",
    "\n",
    "new_str = np.fromstring(str, dtype=int, sep=' ')\n",
    "#print(new_str.shape)\n",
    "new1_str = new_str.reshape(20,20)\n",
    "#print(new1_str.shape)\n",
    "#print(new1_str)\n",
    "max_up2down = 0\n",
    "max_all=[]\n",
    "\n",
    "for i in range(0,17):\n",
    "    for j in range(0,20):\n",
    "        product_up2down=new1_str[i,j]*new1_str[i+1,j]*new1_str[i+2,j]*new1_str[i+3,j]\n",
    "        if(product_up2down > max_up2down):\n",
    "            max_up2down = product_up2down\n",
    "print(max_up2down) #从上到下=从下到上\n",
    "max_all.append(max_up2down)\n",
    "\n",
    "\n",
    "max_left2right=0\n",
    "\n",
    "for i in range(0,20):\n",
    "    for j in range(0,17):\n",
    "        product_left2right = new1_str[i,j]*new1_str[i,j+1]*new1_str[i,j+2]*new1_str[i,j+3]\n",
    "        if(product_left2right > max_left2right):\n",
    "            max_left2right = product_left2right\n",
    "print(max_left2right)#从左到右=从右到左\n",
    "max_all.append(max_left2right)\n",
    "\n",
    "max_diag=0\n",
    "for i in range (0,20):\n",
    "    for j in range(0,20):\n",
    "        if(i==j and i<=16):\n",
    "            product_diag = new1_str[i,i]*new1_str[i+1,i+1]*new1_str[i+2,i+2]*new1_str[i+3,i+3]\n",
    "            if(product_diag > max_diag):\n",
    "                max_diag = product_diag #主对角线\n",
    "        if(i<j and j<=16):#上三角区域\n",
    "            product_diag = new1_str[i,j]*new1_str[i+1,j+1]*new1_str[i+2,j+2]*new1_str[i+3,j+3]\n",
    "            if(product_diag > max_diag):\n",
    "                max_diag = product_diag            \n",
    "print(max_diag)\n",
    "\n",
    "\n",
    "print(max_all)"
   ]
  },
  {
   "cell_type": "code",
   "execution_count": null,
   "metadata": {},
   "outputs": [],
   "source": []
  }
 ],
 "metadata": {
  "kernelspec": {
   "display_name": "Python 3",
   "language": "python",
   "name": "python3"
  },
  "language_info": {
   "codemirror_mode": {
    "name": "ipython",
    "version": 3
   },
   "file_extension": ".py",
   "mimetype": "text/x-python",
   "name": "python",
   "nbconvert_exporter": "python",
   "pygments_lexer": "ipython3",
   "version": "3.7.4"
  }
 },
 "nbformat": 4,
 "nbformat_minor": 2
}
